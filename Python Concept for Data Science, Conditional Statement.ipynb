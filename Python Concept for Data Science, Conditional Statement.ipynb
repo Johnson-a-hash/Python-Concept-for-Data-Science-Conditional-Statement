{
 "cells": [
  {
   "cell_type": "markdown",
   "id": "f937a8df",
   "metadata": {},
   "source": [
    "## CONDITION STATEMENT\n",
    "\n",
    "Conditional statements are also called decision-making statements. We use those statements while we want to execute a block of code when the given condition is true or false."
   ]
  },
  {
   "cell_type": "markdown",
   "id": "9d2ae4ed",
   "metadata": {},
   "source": [
    "Determining student's grade given the student exams score.\n",
    "\n",
    "\n",
    "\n",
    "\n",
    "A = 80 or above B+ = 75 or above\n",
    "B = 70 or above\n",
    "C+ = 65 or above\n",
    "C = 60 or above\n",
    "D+ = 55 or above\n",
    "D = 50 or above\n",
    "E = 40 or above\n",
    "F = >=0\n",
    "Below 0 and above 100 mark is invalid input"
   ]
  },
  {
   "cell_type": "code",
   "execution_count": 8,
   "id": "acbe565a",
   "metadata": {},
   "outputs": [
    {
     "name": "stdout",
     "output_type": "stream",
     "text": [
      "Input your exams score:67\n",
      "Your exams score is 67 therefore you had C+\n"
     ]
    }
   ],
   "source": [
    "mark = (int(input('Input your exams score:')))\n",
    "\n",
    "if mark >= 80 and mark <=100:\n",
    "    print(\"Your exams score is {} therefore you had A\".format(mark))\n",
    "elif mark >= 75:\n",
    "    print(\"Your exams score is {} therefore you had B+\".format(mark))\n",
    "elif mark >= 70:\n",
    "    print(\"Your exams score is {} therefore you had B\".format(mark))\n",
    "elif mark >= 65:\n",
    "    print(\"Your exams score is {} therefore you had C+\".format(mark))\n",
    "elif mark >= 60:\n",
    "    print(\"Your exams score is {} therefore you had C\".format(mark))\n",
    "elif mark >= 55:\n",
    "    print(\"Your exams score is {} therefore you had D+\".format(mark))\n",
    "elif mark >= 50:\n",
    "    print(\"Your exams score is {} therefore you had D\".format(mark))\n",
    "elif mark >= 40:\n",
    "    print(\"Your exams score is {} therefore you had E\".format(mark))\n",
    "elif mark >= 0:\n",
    "    print(\"Your exams score is {} therefore you had F\".format(mark))\n",
    "else:\n",
    "    print(\"Invalid input. Make sure your value is withing the range of 0 - 100 inclusively\")"
   ]
  },
  {
   "cell_type": "code",
   "execution_count": 9,
   "id": "5736c794",
   "metadata": {},
   "outputs": [
    {
     "name": "stdout",
     "output_type": "stream",
     "text": [
      "Input your exams score:87\n",
      "Your exams score is 87 therefore you had A\n"
     ]
    }
   ],
   "source": [
    "mark = (int(input('Input your exams score:')))\n",
    "\n",
    "if mark >= 80 and mark <=100:\n",
    "    print(\"Your exams score is {} therefore you had A\".format(mark))\n",
    "elif mark >= 75:\n",
    "    print(\"Your exams score is {} therefore you had B+\".format(mark))\n",
    "elif mark >= 70:\n",
    "    print(\"Your exams score is {} therefore you had B\".format(mark))\n",
    "elif mark >= 65:\n",
    "    print(\"Your exams score is {} therefore you had C+\".format(mark))\n",
    "elif mark >= 60:\n",
    "    print(\"Your exams score is {} therefore you had C\".format(mark))\n",
    "elif mark >= 55:\n",
    "    print(\"Your exams score is {} therefore you had D+\".format(mark))\n",
    "elif mark >= 50:\n",
    "    print(\"Your exams score is {} therefore you had D\".format(mark))\n",
    "elif mark >= 40:\n",
    "    print(\"Your exams score is {} therefore you had E\".format(mark))\n",
    "elif mark >= 0:\n",
    "    print(\"Your exams score is {} therefore you had F\".format(mark))\n",
    "else:\n",
    "    print(\"Invalid input. Make sure your value is withing the range of 0 - 100 inclusively\")"
   ]
  }
 ],
 "metadata": {
  "kernelspec": {
   "display_name": "Python 3",
   "language": "python",
   "name": "python3"
  },
  "language_info": {
   "codemirror_mode": {
    "name": "ipython",
    "version": 3
   },
   "file_extension": ".py",
   "mimetype": "text/x-python",
   "name": "python",
   "nbconvert_exporter": "python",
   "pygments_lexer": "ipython3",
   "version": "3.8.8"
  }
 },
 "nbformat": 4,
 "nbformat_minor": 5
}
